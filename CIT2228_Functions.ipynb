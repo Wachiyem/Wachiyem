{
  "nbformat": 4,
  "nbformat_minor": 0,
  "metadata": {
    "colab": {
      "provenance": [],
      "authorship_tag": "ABX9TyPAcIwe0nUB5/QAYpew7WPK",
      "include_colab_link": true
    },
    "kernelspec": {
      "name": "python3",
      "display_name": "Python 3"
    },
    "language_info": {
      "name": "python"
    }
  },
  "cells": [
    {
      "cell_type": "markdown",
      "metadata": {
        "id": "view-in-github",
        "colab_type": "text"
      },
      "source": [
        "<a href=\"https://colab.research.google.com/github/Wachiyem/Wachiyem/blob/main/CIT2228_Functions.ipynb\" target=\"_parent\"><img src=\"https://colab.research.google.com/assets/colab-badge.svg\" alt=\"Open In Colab\"/></a>"
      ]
    },
    {
      "cell_type": "code",
      "execution_count": null,
      "metadata": {
        "colab": {
          "base_uri": "https://localhost:8080/"
        },
        "id": "A34dPR8p8eCS",
        "outputId": "71fadf2f-adae-475b-c43d-87a1b9e2b179"
      },
      "outputs": [
        {
          "output_type": "stream",
          "name": "stdout",
          "text": [
            "Today we shall talk about functions\n"
          ]
        }
      ],
      "source": [
        "print('Today we shall talk about functions')"
      ]
    },
    {
      "cell_type": "code",
      "source": [
        "sum([2, 3, 4])"
      ],
      "metadata": {
        "colab": {
          "base_uri": "https://localhost:8080/"
        },
        "id": "JdUdytm989s4",
        "outputId": "0f1a918b-5558-4513-9ef0-29462212f502"
      },
      "execution_count": null,
      "outputs": [
        {
          "output_type": "execute_result",
          "data": {
            "text/plain": [
              "9"
            ]
          },
          "metadata": {},
          "execution_count": 2
        }
      ]
    },
    {
      "cell_type": "code",
      "source": [
        "2 + 4"
      ],
      "metadata": {
        "colab": {
          "base_uri": "https://localhost:8080/"
        },
        "id": "xQVEEfKe-TcW",
        "outputId": "081b9983-bd51-4742-91ae-cce68401950d"
      },
      "execution_count": null,
      "outputs": [
        {
          "output_type": "execute_result",
          "data": {
            "text/plain": [
              "6"
            ]
          },
          "metadata": {},
          "execution_count": 3
        }
      ]
    },
    {
      "cell_type": "code",
      "source": [
        "6 + 8"
      ],
      "metadata": {
        "colab": {
          "base_uri": "https://localhost:8080/"
        },
        "id": "-cunDg_A-WaP",
        "outputId": "dc9768be-5d39-414e-da5c-2180275c193d"
      },
      "execution_count": null,
      "outputs": [
        {
          "output_type": "execute_result",
          "data": {
            "text/plain": [
              "14"
            ]
          },
          "metadata": {},
          "execution_count": 4
        }
      ]
    },
    {
      "cell_type": "code",
      "source": [
        "# A function to add two numbers\n",
        "\n",
        "def add_two_numbers(a, b):\n",
        "    summation = a + b\n",
        "    return summation\n",
        "\n"
      ],
      "metadata": {
        "id": "V6L5p3cD_a5O"
      },
      "execution_count": 12,
      "outputs": []
    },
    {
      "cell_type": "code",
      "source": [
        "\n",
        "a = int(input(' a = '))\n",
        "b = int(input(' b = '))\n",
        "\n",
        "add_two_numbers(a, b)"
      ],
      "metadata": {
        "id": "Zz_ofxbKBB7m"
      },
      "execution_count": null,
      "outputs": []
    },
    {
      "cell_type": "code",
      "source": [
        "sum([40, 56])"
      ],
      "metadata": {
        "colab": {
          "base_uri": "https://localhost:8080/"
        },
        "id": "Z0E3rQ_oA104",
        "outputId": "e6aa5f87-6d33-4b3c-ffec-602adf68feb8"
      },
      "execution_count": null,
      "outputs": [
        {
          "output_type": "execute_result",
          "data": {
            "text/plain": [
              "96"
            ]
          },
          "metadata": {},
          "execution_count": 8
        }
      ]
    },
    {
      "cell_type": "markdown",
      "source": [
        "Write a simple function to multiply two numbers. Let your input variables be `var_1` and `var_2`"
      ],
      "metadata": {
        "id": "7_eBtGJPCNlK"
      }
    },
    {
      "cell_type": "code",
      "source": [
        "def multply_two_numbers(var1,var2): # Lameck's Code\n",
        "  result = var1 * var2\n",
        "  return result"
      ],
      "metadata": {
        "id": "ipCQ6bAxC4L6"
      },
      "execution_count": 13,
      "outputs": []
    },
    {
      "cell_type": "code",
      "source": [
        "multply_two_numbers(2, 3)"
      ],
      "metadata": {
        "colab": {
          "base_uri": "https://localhost:8080/"
        },
        "id": "Gb7LLIPHDaz8",
        "outputId": "7757cf43-bd54-41f7-9ece-c129bf2b6196"
      },
      "execution_count": 15,
      "outputs": [
        {
          "output_type": "execute_result",
          "data": {
            "text/plain": [
              "6"
            ]
          },
          "metadata": {},
          "execution_count": 15
        }
      ]
    },
    {
      "cell_type": "code",
      "source": [
        "var1 = 20\n",
        "var2 = 5\n",
        "multply_two_numbers(var1, var2)"
      ],
      "metadata": {
        "colab": {
          "base_uri": "https://localhost:8080/"
        },
        "id": "DoQQN0BdDOfD",
        "outputId": "b6491ada-5b8c-4dca-b8e8-272342ac0fc1"
      },
      "execution_count": 14,
      "outputs": [
        {
          "output_type": "execute_result",
          "data": {
            "text/plain": [
              "100"
            ]
          },
          "metadata": {},
          "execution_count": 14
        }
      ]
    },
    {
      "cell_type": "code",
      "source": [
        "# Bad example\n",
        "# Function to calculate the area of a circle\n",
        "\n",
        "def area of circle(radius):\n",
        "  area = 3.14 * radius ** 2\n",
        "  return area\n",
        "\n",
        "area_of_circle(7)"
      ],
      "metadata": {
        "colab": {
          "base_uri": "https://localhost:8080/",
          "height": 109
        },
        "id": "-in_cOtWEUUY",
        "outputId": "76928446-534a-43a4-db72-bc18e104c67d"
      },
      "execution_count": 20,
      "outputs": [
        {
          "output_type": "error",
          "ename": "SyntaxError",
          "evalue": "expected '(' (<ipython-input-20-26c3fb3e1317>, line 4)",
          "traceback": [
            "\u001b[0;36m  File \u001b[0;32m\"<ipython-input-20-26c3fb3e1317>\"\u001b[0;36m, line \u001b[0;32m4\u001b[0m\n\u001b[0;31m    def area of circle(radius):\u001b[0m\n\u001b[0m             ^\u001b[0m\n\u001b[0;31mSyntaxError\u001b[0m\u001b[0;31m:\u001b[0m expected '('\n"
          ]
        }
      ]
    },
    {
      "cell_type": "code",
      "source": [
        "# Good naming example\n",
        "# Function to calculate the area of a circle\n",
        "\n",
        "def area_of_circle(radius):\n",
        "  area = 3.14 * radius ** 2\n",
        "  return area\n",
        "\n",
        "area_of_circle(7)"
      ],
      "metadata": {
        "colab": {
          "base_uri": "https://localhost:8080/"
        },
        "id": "SdMUd1T0FNI6",
        "outputId": "f90b0728-b181-402a-9d20-46ba63e045c5"
      },
      "execution_count": 19,
      "outputs": [
        {
          "output_type": "execute_result",
          "data": {
            "text/plain": [
              "153.86"
            ]
          },
          "metadata": {},
          "execution_count": 19
        }
      ]
    },
    {
      "cell_type": "markdown",
      "source": [
        "Write a function that calculates the mean age of your household."
      ],
      "metadata": {
        "id": "AKXmZdETFmCA"
      }
    },
    {
      "cell_type": "code",
      "source": [
        "# Assuming a family of 3\n",
        "# Arguments: dad_age, mum_age, baby_age\n",
        "\n",
        "def mean_age(dad_age, mum_age, baby_age):\n",
        "  mean_age = (dad_age + mum_age + baby_age) / 3\n",
        "  return mean_age\n",
        "\n",
        "\n",
        "mean_age(40, 35, 2)"
      ],
      "metadata": {
        "colab": {
          "base_uri": "https://localhost:8080/"
        },
        "id": "2OqiTOxqFx_B",
        "outputId": "7e782f37-14e7-4457-b163-304122514f00"
      },
      "execution_count": 21,
      "outputs": [
        {
          "output_type": "execute_result",
          "data": {
            "text/plain": [
              "25.666666666666668"
            ]
          },
          "metadata": {},
          "execution_count": 21
        }
      ]
    },
    {
      "cell_type": "markdown",
      "source": [
        "## A more complex example¶\n",
        "Now that you understand the basics, we can move on to an example with a longer calculation.\n",
        "\n",
        "Say you are helping a friend to calculate their weekly paycheck after taxes.\n",
        "\n",
        "They're in a 12% tax bracket (in other words, 12% of their salary is taken for taxes, and they only take home 88%), and\n",
        "They're paid hourly, at a rate of $15/hour.\n",
        "The function below calculates the paycheck based on the number of hours worked. The function is more complicated than with the first example, because the function has more lines of code and comments. Similar to the example above, the function has a single argument (num hours). In the function body, we:\n",
        "\n",
        "Use the value for num_hours to specify the value for a new variable pay_pretax.\n",
        "Use the value of pay_pretax to specify the value for a new variable pay_aftertax.\n",
        "Return the value of the pay_aftertax variable."
      ],
      "metadata": {
        "id": "kjjLrRg_HQMu"
      }
    },
    {
      "cell_type": "code",
      "source": [
        "def calculate_pay(num_hours):\n",
        "    # Pre-tax pay, based on receiving $15/hour\n",
        "    pay_pretax = num_hours * 15\n",
        "\n",
        "    #pay after tax\n",
        "    pay_aftertax = pay_pretax * 0.88\n",
        "\n",
        "    return pay_aftertax"
      ],
      "metadata": {
        "id": "7-zbDWBGH8vd"
      },
      "execution_count": 22,
      "outputs": []
    },
    {
      "cell_type": "code",
      "source": [
        "calculate_pay(20)"
      ],
      "metadata": {
        "colab": {
          "base_uri": "https://localhost:8080/"
        },
        "id": "iKTw9t8jIVy2",
        "outputId": "9a9e135e-e302-40f3-a215-9fd6878d833f"
      },
      "execution_count": 23,
      "outputs": [
        {
          "output_type": "execute_result",
          "data": {
            "text/plain": [
              "264.0"
            ]
          },
          "metadata": {},
          "execution_count": 23
        }
      ]
    },
    {
      "cell_type": "markdown",
      "source": [
        "## Variable \"scope\"¶\n",
        "Variables defined inside the function body cannot be accessed outside of the function. For instance, the next code cell errors, because pay_aftertax only exists inside the function."
      ],
      "metadata": {
        "id": "hnqtyriUI36X"
      }
    },
    {
      "cell_type": "code",
      "source": [
        "print(pay_pretax)"
      ],
      "metadata": {
        "colab": {
          "base_uri": "https://localhost:8080/",
          "height": 145
        },
        "id": "L5vSikvcIp8s",
        "outputId": "88cd62d6-5819-4e89-b206-bc6bb5808b7f"
      },
      "execution_count": 24,
      "outputs": [
        {
          "output_type": "error",
          "ename": "NameError",
          "evalue": "name 'pay_pretax' is not defined",
          "traceback": [
            "\u001b[0;31m---------------------------------------------------------------------------\u001b[0m",
            "\u001b[0;31mNameError\u001b[0m                                 Traceback (most recent call last)",
            "\u001b[0;32m<ipython-input-24-fb56fb3cde72>\u001b[0m in \u001b[0;36m<cell line: 0>\u001b[0;34m()\u001b[0m\n\u001b[0;32m----> 1\u001b[0;31m \u001b[0mprint\u001b[0m\u001b[0;34m(\u001b[0m\u001b[0mpay_pretax\u001b[0m\u001b[0;34m)\u001b[0m\u001b[0;34m\u001b[0m\u001b[0;34m\u001b[0m\u001b[0m\n\u001b[0m",
            "\u001b[0;31mNameError\u001b[0m: name 'pay_pretax' is not defined"
          ]
        }
      ]
    },
    {
      "cell_type": "markdown",
      "source": [
        "## Functions with multiple arguments¶\n",
        "So far, you have learned how to define a function with just one argument. To define a function with multiple arguments, you only need to add more arguments inside the parentheses in the function head and separate them with a comma.\n",
        "\n",
        "We do this with the `get_pay_with_more_inputs()` function below, which calculates a weekly paycheck based on three arguments:\n",
        "\n",
        "num_hours - number of hours worked in one week\n",
        "\n",
        "hourly_wage - the hourly wage (in $/hour)\n",
        "\n",
        "tax_bracket - percentage of your salary that is removed for taxes"
      ],
      "metadata": {
        "id": "RDCe3UtLJOuD"
      }
    },
    {
      "cell_type": "code",
      "source": [
        "def get_pay_with_more_inputs(num_hours, hourly_wage, tax_bracket):\n",
        "    # Pre-tax pay\n",
        "    pay_pretax = num_hours * hourly_wage\n",
        "    # After-tax pay\n",
        "    pay_aftertax = pay_pretax * (1 - tax_bracket)\n",
        "    return pay_aftertax"
      ],
      "metadata": {
        "id": "3Tu9p6kmJRD3"
      },
      "execution_count": 28,
      "outputs": []
    },
    {
      "cell_type": "code",
      "source": [
        "get_pay_with_more_inputs(40, 24, .22)"
      ],
      "metadata": {
        "colab": {
          "base_uri": "https://localhost:8080/"
        },
        "id": "hOMfaENDJqIU",
        "outputId": "7847f4db-a419-43b5-968d-6d176c3006e5"
      },
      "execution_count": 29,
      "outputs": [
        {
          "output_type": "execute_result",
          "data": {
            "text/plain": [
              "748.8000000000001"
            ]
          },
          "metadata": {},
          "execution_count": 29
        }
      ]
    },
    {
      "cell_type": "markdown",
      "source": [
        "## Functions with no arguments¶\n",
        "Note that it's possible to define function with no arguments, and that don't have a return statement. The print_hello() function in the code cell below is an example."
      ],
      "metadata": {
        "id": "kMtf2WWhKSqp"
      }
    },
    {
      "cell_type": "code",
      "source": [
        "def print_hello():\n",
        "  print(\"Hello World\")\n",
        "  print(\"When shall we sort the climate change emergency?\")\n",
        "\n",
        "print_hello()"
      ],
      "metadata": {
        "colab": {
          "base_uri": "https://localhost:8080/"
        },
        "id": "0VLlKCdYKWNp",
        "outputId": "f13daaea-aefc-437c-ab34-7fc9419bb42b"
      },
      "execution_count": 30,
      "outputs": [
        {
          "output_type": "stream",
          "name": "stdout",
          "text": [
            "Hello World\n",
            "When shall we sort the climate change emergency?\n"
          ]
        }
      ]
    },
    {
      "cell_type": "markdown",
      "source": [
        "Assignment: Check kaggle exercise [Kaggle Exercise on Functions](https://www.kaggle.com/code/wachiyem/exercise-functions/edit)\n",
        "\n",
        "Due: Next lecture\n",
        "\n",
        "- Create an account on Github to submit your work."
      ],
      "metadata": {
        "id": "xsj85HFSLOZz"
      }
    }
  ]
}